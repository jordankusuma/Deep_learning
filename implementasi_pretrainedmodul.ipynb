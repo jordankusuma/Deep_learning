{
  "nbformat": 4,
  "nbformat_minor": 0,
  "metadata": {
    "colab": {
      "name": "Resnet yang tidak jadi Resmi.ipynb",
      "provenance": []
    },
    "kernelspec": {
      "name": "python3",
      "display_name": "Python 3"
    },
    "language_info": {
      "name": "python"
    }
  },
  "cells": [
    {
      "cell_type": "code",
      "metadata": {
        "id": "UTWpgCwQlT70"
      },
      "source": [
        "import numpy as np\n",
        "import pandas as pd\n",
        "import matplotlib.pyplot as plt\n",
        "from glob import glob"
      ],
      "execution_count": null,
      "outputs": []
    },
    {
      "cell_type": "code",
      "metadata": {
        "colab": {
          "base_uri": "https://localhost:8080/"
        },
        "id": "_FUFdc9swINO",
        "outputId": "c1bee7cd-051c-466e-c650-6b1852364406"
      },
      "source": [
        "from google.colab import drive\n",
        "drive.mount('/content/gdrive')"
      ],
      "execution_count": null,
      "outputs": [
        {
          "output_type": "stream",
          "text": [
            "Drive already mounted at /content/gdrive; to attempt to forcibly remount, call drive.mount(\"/content/gdrive\", force_remount=True).\n"
          ],
          "name": "stdout"
        }
      ]
    },
    {
      "cell_type": "code",
      "metadata": {
        "id": "EZjKwQRewvxh"
      },
      "source": [
        "import os\n",
        "os.environ['KAGGLE_CONFIG_DIR'] = \"/content/gdrive/My Drive/Kaggle\""
      ],
      "execution_count": null,
      "outputs": []
    },
    {
      "cell_type": "code",
      "metadata": {
        "colab": {
          "base_uri": "https://localhost:8080/"
        },
        "id": "khPLb8gSwxxZ",
        "outputId": "88efb57a-d8ba-4ea2-e619-184e14814ad0"
      },
      "source": [
        "%cd /content/gdrive/My Drive/Kaggle"
      ],
      "execution_count": null,
      "outputs": [
        {
          "output_type": "stream",
          "text": [
            "/content/gdrive/My Drive/Kaggle\n"
          ],
          "name": "stdout"
        }
      ]
    },
    {
      "cell_type": "code",
      "metadata": {
        "id": "Cbl1pkgow0CA"
      },
      "source": [
        "# !kaggle datasets download -d moltean/fruits"
      ],
      "execution_count": null,
      "outputs": []
    },
    {
      "cell_type": "code",
      "metadata": {
        "id": "d1rahu_Hw13Q"
      },
      "source": [
        "# !kaggle datasets download -d gaborfodor/keras-pretrained-models"
      ],
      "execution_count": null,
      "outputs": []
    },
    {
      "cell_type": "code",
      "metadata": {
        "id": "utONFjyKw4Ag",
        "colab": {
          "base_uri": "https://localhost:8080/"
        },
        "outputId": "126b7d79-7edc-4e54-9ff9-e823be79276b"
      },
      "source": [
        "ls"
      ],
      "execution_count": null,
      "outputs": [
        {
          "output_type": "stream",
          "text": [
            "best.hdf5\n",
            "catsdogs-trainvalid-80pc-prepd.zip\n",
            "\u001b[0m\u001b[01;34mfruits-360\u001b[0m/\n",
            "fruits.zip\n",
            "imagenet_class_index.json\n",
            "inception_resnet_v2_weights_tf_dim_ordering_tf_kernels.h5\n",
            "inception_resnet_v2_weights_tf_dim_ordering_tf_kernels_notop.h5\n",
            "inception_v3_weights_tf_dim_ordering_tf_kernels.h5\n",
            "inception_v3_weights_tf_dim_ordering_tf_kernels_notop.h5\n",
            "kaggle.json\n",
            "keras-pretrained-models.zip\n",
            "Kuszma.JPG\n",
            "resnet50_weights_tf_dim_ordering_tf_kernels.h5\n",
            "resnet50_weights_tf_dim_ordering_tf_kernels_notop.h5\n",
            "resnet50.zip\n",
            "sample_submission.csv\n",
            "submission.csv\n",
            "\u001b[01;34mtest\u001b[0m/\n",
            "\u001b[01;34mtest4keras\u001b[0m/\n",
            "test-files-prepd.zip\n",
            "test.zip\n",
            "\u001b[01;34mtrain\u001b[0m/\n",
            "\u001b[01;34mtrainvalidfull4keras\u001b[0m/\n",
            "train.zip\n",
            "tutorial-keras-transfer-learning-with-resnet50.ipynb\n",
            "US_Accidents_Dec20.csv\n",
            "us-accidents.zip\n",
            "vgg16_weights_tf_dim_ordering_tf_kernels_notop.h5\n",
            "xception_weights_tf_dim_ordering_tf_kernels.h5\n",
            "xception_weights_tf_dim_ordering_tf_kernels_notop.h5\n"
          ],
          "name": "stdout"
        }
      ]
    },
    {
      "cell_type": "code",
      "metadata": {
        "id": "JFGaWIktw7GJ"
      },
      "source": [
        "training_dir = 'fruits-360/Training/'\n",
        "validation_dir = 'fruits-360/Test/'\n",
        "test_dir = 'fruits-360/test-multiple_fruits/'"
      ],
      "execution_count": null,
      "outputs": []
    },
    {
      "cell_type": "code",
      "metadata": {
        "id": "5BeuofquxApB"
      },
      "source": [
        "image_files = glob(training_dir + '/*/*.jp*g')\n",
        "valid_image_files = glob(validation_dir + '/*/*.jp*g')"
      ],
      "execution_count": null,
      "outputs": []
    },
    {
      "cell_type": "code",
      "metadata": {
        "colab": {
          "base_uri": "https://localhost:8080/"
        },
        "id": "QK3RHAesxCpI",
        "outputId": "fad98ae0-8cc3-4ed2-df5b-f11f7e745ce8"
      },
      "source": [
        "folders = glob(training_dir + '/*')\n",
        "num_classes = len(folders)\n",
        "print ('Total Classes = ' + str(num_classes))"
      ],
      "execution_count": null,
      "outputs": [
        {
          "output_type": "stream",
          "text": [
            "Total Classes = 131\n"
          ],
          "name": "stdout"
        }
      ]
    },
    {
      "cell_type": "code",
      "metadata": {
        "id": "fCAG3uApxE4q"
      },
      "source": [
        "# importing the libraries\n",
        "from keras.models import Model\n",
        "from keras.layers import Flatten, Dense\n",
        "from keras.applications import VGG16\n",
        "#from keras.preprocessing import image\n",
        "\n",
        "IMAGE_SIZE = [64, 64]  # we will keep the image size as (64,64). You can increase the size for better results. \n",
        "\n",
        "# loading the weights of VGG16 without the top layer. These weights are trained on Imagenet dataset.\n",
        "vgg = VGG16(input_shape = IMAGE_SIZE + [3], weights = 'imagenet', include_top = False)  # input_shape = (64,64,3) as required by VGG\n",
        "\n",
        "# this will exclude the initial layers from training phase as there are already been trained.\n",
        "for layer in vgg.layers:\n",
        "    layer.trainable = False\n",
        "\n",
        "x = Flatten()(vgg.output)\n",
        "#x = Dense(128, activation = 'relu')(x)   # we can add a new fully connected layer but it will increase the execution time.\n",
        "x = Dense(num_classes, activation = 'softmax')(x)  # adding the output layer with softmax function as this is a multi label classification problem.\n",
        "\n",
        "model = Model(inputs = vgg.input, outputs = x)\n",
        "\n",
        "model.compile(loss='categorical_crossentropy', optimizer='adam', metrics=['accuracy'])"
      ],
      "execution_count": null,
      "outputs": []
    },
    {
      "cell_type": "code",
      "metadata": {
        "colab": {
          "base_uri": "https://localhost:8080/"
        },
        "id": "trnfnakMxSxw",
        "outputId": "7d060de9-9cbc-49ab-cb57-6acf3b287fb4"
      },
      "source": [
        "model.summary()"
      ],
      "execution_count": null,
      "outputs": [
        {
          "output_type": "stream",
          "text": [
            "Model: \"model\"\n",
            "_________________________________________________________________\n",
            "Layer (type)                 Output Shape              Param #   \n",
            "=================================================================\n",
            "input_1 (InputLayer)         [(None, 64, 64, 3)]       0         \n",
            "_________________________________________________________________\n",
            "block1_conv1 (Conv2D)        (None, 64, 64, 64)        1792      \n",
            "_________________________________________________________________\n",
            "block1_conv2 (Conv2D)        (None, 64, 64, 64)        36928     \n",
            "_________________________________________________________________\n",
            "block1_pool (MaxPooling2D)   (None, 32, 32, 64)        0         \n",
            "_________________________________________________________________\n",
            "block2_conv1 (Conv2D)        (None, 32, 32, 128)       73856     \n",
            "_________________________________________________________________\n",
            "block2_conv2 (Conv2D)        (None, 32, 32, 128)       147584    \n",
            "_________________________________________________________________\n",
            "block2_pool (MaxPooling2D)   (None, 16, 16, 128)       0         \n",
            "_________________________________________________________________\n",
            "block3_conv1 (Conv2D)        (None, 16, 16, 256)       295168    \n",
            "_________________________________________________________________\n",
            "block3_conv2 (Conv2D)        (None, 16, 16, 256)       590080    \n",
            "_________________________________________________________________\n",
            "block3_conv3 (Conv2D)        (None, 16, 16, 256)       590080    \n",
            "_________________________________________________________________\n",
            "block3_pool (MaxPooling2D)   (None, 8, 8, 256)         0         \n",
            "_________________________________________________________________\n",
            "block4_conv1 (Conv2D)        (None, 8, 8, 512)         1180160   \n",
            "_________________________________________________________________\n",
            "block4_conv2 (Conv2D)        (None, 8, 8, 512)         2359808   \n",
            "_________________________________________________________________\n",
            "block4_conv3 (Conv2D)        (None, 8, 8, 512)         2359808   \n",
            "_________________________________________________________________\n",
            "block4_pool (MaxPooling2D)   (None, 4, 4, 512)         0         \n",
            "_________________________________________________________________\n",
            "block5_conv1 (Conv2D)        (None, 4, 4, 512)         2359808   \n",
            "_________________________________________________________________\n",
            "block5_conv2 (Conv2D)        (None, 4, 4, 512)         2359808   \n",
            "_________________________________________________________________\n",
            "block5_conv3 (Conv2D)        (None, 4, 4, 512)         2359808   \n",
            "_________________________________________________________________\n",
            "block5_pool (MaxPooling2D)   (None, 2, 2, 512)         0         \n",
            "_________________________________________________________________\n",
            "flatten (Flatten)            (None, 2048)              0         \n",
            "_________________________________________________________________\n",
            "dense (Dense)                (None, 131)               268419    \n",
            "=================================================================\n",
            "Total params: 14,983,107\n",
            "Trainable params: 268,419\n",
            "Non-trainable params: 14,714,688\n",
            "_________________________________________________________________\n"
          ],
          "name": "stdout"
        }
      ]
    },
    {
      "cell_type": "code",
      "metadata": {
        "colab": {
          "base_uri": "https://localhost:8080/"
        },
        "id": "Q8U6LIUPSA8L",
        "outputId": "04bc29ff-d68b-4269-91c1-723267e65887"
      },
      "source": [
        "import keras\n",
        "from keras.models import Model\n",
        "from keras.layers import Flatten, Dense\n",
        "from keras.applications.vgg16 import VGG16\n",
        "temp = VGG16()"
      ],
      "execution_count": null,
      "outputs": [
        {
          "output_type": "stream",
          "text": [
            "Downloading data from https://storage.googleapis.com/tensorflow/keras-applications/vgg16/vgg16_weights_tf_dim_ordering_tf_kernels.h5\n",
            "553467904/553467096 [==============================] - 5s 0us/step\n"
          ],
          "name": "stdout"
        }
      ]
    },
    {
      "cell_type": "code",
      "metadata": {
        "id": "OQiNtc4Idwvl",
        "colab": {
          "base_uri": "https://localhost:8080/"
        },
        "outputId": "fa314430-b2e2-4236-910e-a0715f80b29e"
      },
      "source": [
        "temp.summary()"
      ],
      "execution_count": null,
      "outputs": [
        {
          "output_type": "stream",
          "text": [
            "Model: \"vgg16\"\n",
            "_________________________________________________________________\n",
            "Layer (type)                 Output Shape              Param #   \n",
            "=================================================================\n",
            "input_3 (InputLayer)         [(None, 224, 224, 3)]     0         \n",
            "_________________________________________________________________\n",
            "block1_conv1 (Conv2D)        (None, 224, 224, 64)      1792      \n",
            "_________________________________________________________________\n",
            "block1_conv2 (Conv2D)        (None, 224, 224, 64)      36928     \n",
            "_________________________________________________________________\n",
            "block1_pool (MaxPooling2D)   (None, 112, 112, 64)      0         \n",
            "_________________________________________________________________\n",
            "block2_conv1 (Conv2D)        (None, 112, 112, 128)     73856     \n",
            "_________________________________________________________________\n",
            "block2_conv2 (Conv2D)        (None, 112, 112, 128)     147584    \n",
            "_________________________________________________________________\n",
            "block2_pool (MaxPooling2D)   (None, 56, 56, 128)       0         \n",
            "_________________________________________________________________\n",
            "block3_conv1 (Conv2D)        (None, 56, 56, 256)       295168    \n",
            "_________________________________________________________________\n",
            "block3_conv2 (Conv2D)        (None, 56, 56, 256)       590080    \n",
            "_________________________________________________________________\n",
            "block3_conv3 (Conv2D)        (None, 56, 56, 256)       590080    \n",
            "_________________________________________________________________\n",
            "block3_pool (MaxPooling2D)   (None, 28, 28, 256)       0         \n",
            "_________________________________________________________________\n",
            "block4_conv1 (Conv2D)        (None, 28, 28, 512)       1180160   \n",
            "_________________________________________________________________\n",
            "block4_conv2 (Conv2D)        (None, 28, 28, 512)       2359808   \n",
            "_________________________________________________________________\n",
            "block4_conv3 (Conv2D)        (None, 28, 28, 512)       2359808   \n",
            "_________________________________________________________________\n",
            "block4_pool (MaxPooling2D)   (None, 14, 14, 512)       0         \n",
            "_________________________________________________________________\n",
            "block5_conv1 (Conv2D)        (None, 14, 14, 512)       2359808   \n",
            "_________________________________________________________________\n",
            "block5_conv2 (Conv2D)        (None, 14, 14, 512)       2359808   \n",
            "_________________________________________________________________\n",
            "block5_conv3 (Conv2D)        (None, 14, 14, 512)       2359808   \n",
            "_________________________________________________________________\n",
            "block5_pool (MaxPooling2D)   (None, 7, 7, 512)         0         \n",
            "_________________________________________________________________\n",
            "flatten (Flatten)            (None, 25088)             0         \n",
            "_________________________________________________________________\n",
            "fc1 (Dense)                  (None, 4096)              102764544 \n",
            "_________________________________________________________________\n",
            "fc2 (Dense)                  (None, 4096)              16781312  \n",
            "_________________________________________________________________\n",
            "predictions (Dense)          (None, 1000)              4097000   \n",
            "=================================================================\n",
            "Total params: 138,357,544\n",
            "Trainable params: 138,357,544\n",
            "Non-trainable params: 0\n",
            "_________________________________________________________________\n"
          ],
          "name": "stdout"
        }
      ]
    },
    {
      "cell_type": "code",
      "metadata": {
        "colab": {
          "base_uri": "https://localhost:8080/"
        },
        "id": "Jq5w9qu5xUsk",
        "outputId": "861eea9a-c124-4ec8-8084-859a4c5a7f54"
      },
      "source": [
        "# Image Augmentation\n",
        "\n",
        "from keras.preprocessing.image import ImageDataGenerator\n",
        "from keras.applications.vgg16 import preprocess_input\n",
        "\n",
        "training_datagen = ImageDataGenerator(\n",
        "                                    rescale=1./255,   # all pixel values will be between 0 an 1\n",
        "                                    shear_range=0.2, \n",
        "                                    zoom_range=0.2,\n",
        "                                    horizontal_flip=True,\n",
        "                                    preprocessing_function=preprocess_input)\n",
        "\n",
        "validation_datagen = ImageDataGenerator(rescale = 1./255, preprocessing_function=preprocess_input)\n",
        "\n",
        "training_generator = training_datagen.flow_from_directory(training_dir, target_size = IMAGE_SIZE, batch_size = 200, class_mode = 'categorical')\n",
        "validation_generator = validation_datagen.flow_from_directory(validation_dir, target_size = IMAGE_SIZE, batch_size = 200, class_mode = 'categorical')"
      ],
      "execution_count": null,
      "outputs": [
        {
          "output_type": "stream",
          "text": [
            "Found 67692 images belonging to 131 classes.\n",
            "Found 22688 images belonging to 131 classes.\n"
          ],
          "name": "stdout"
        }
      ]
    },
    {
      "cell_type": "code",
      "metadata": {
        "colab": {
          "base_uri": "https://localhost:8080/"
        },
        "id": "26h64SkpxZzg",
        "outputId": "571f5435-9c05-4f8e-c58d-f33b2f426278"
      },
      "source": [
        "# The labels are stored in class_indices in dictionary form. \n",
        "# checking the labels\n",
        "training_generator.class_indices"
      ],
      "execution_count": null,
      "outputs": [
        {
          "output_type": "execute_result",
          "data": {
            "text/plain": [
              "{'Apple Braeburn': 0,\n",
              " 'Apple Crimson Snow': 1,\n",
              " 'Apple Golden 1': 2,\n",
              " 'Apple Golden 2': 3,\n",
              " 'Apple Golden 3': 4,\n",
              " 'Apple Granny Smith': 5,\n",
              " 'Apple Pink Lady': 6,\n",
              " 'Apple Red 1': 7,\n",
              " 'Apple Red 2': 8,\n",
              " 'Apple Red 3': 9,\n",
              " 'Apple Red Delicious': 10,\n",
              " 'Apple Red Yellow 1': 11,\n",
              " 'Apple Red Yellow 2': 12,\n",
              " 'Apricot': 13,\n",
              " 'Avocado': 14,\n",
              " 'Avocado ripe': 15,\n",
              " 'Banana': 16,\n",
              " 'Banana Lady Finger': 17,\n",
              " 'Banana Red': 18,\n",
              " 'Beetroot': 19,\n",
              " 'Blueberry': 20,\n",
              " 'Cactus fruit': 21,\n",
              " 'Cantaloupe 1': 22,\n",
              " 'Cantaloupe 2': 23,\n",
              " 'Carambula': 24,\n",
              " 'Cauliflower': 25,\n",
              " 'Cherry 1': 26,\n",
              " 'Cherry 2': 27,\n",
              " 'Cherry Rainier': 28,\n",
              " 'Cherry Wax Black': 29,\n",
              " 'Cherry Wax Red': 30,\n",
              " 'Cherry Wax Yellow': 31,\n",
              " 'Chestnut': 32,\n",
              " 'Clementine': 33,\n",
              " 'Cocos': 34,\n",
              " 'Corn': 35,\n",
              " 'Corn Husk': 36,\n",
              " 'Cucumber Ripe': 37,\n",
              " 'Cucumber Ripe 2': 38,\n",
              " 'Dates': 39,\n",
              " 'Eggplant': 40,\n",
              " 'Fig': 41,\n",
              " 'Ginger Root': 42,\n",
              " 'Granadilla': 43,\n",
              " 'Grape Blue': 44,\n",
              " 'Grape Pink': 45,\n",
              " 'Grape White': 46,\n",
              " 'Grape White 2': 47,\n",
              " 'Grape White 3': 48,\n",
              " 'Grape White 4': 49,\n",
              " 'Grapefruit Pink': 50,\n",
              " 'Grapefruit White': 51,\n",
              " 'Guava': 52,\n",
              " 'Hazelnut': 53,\n",
              " 'Huckleberry': 54,\n",
              " 'Kaki': 55,\n",
              " 'Kiwi': 56,\n",
              " 'Kohlrabi': 57,\n",
              " 'Kumquats': 58,\n",
              " 'Lemon': 59,\n",
              " 'Lemon Meyer': 60,\n",
              " 'Limes': 61,\n",
              " 'Lychee': 62,\n",
              " 'Mandarine': 63,\n",
              " 'Mango': 64,\n",
              " 'Mango Red': 65,\n",
              " 'Mangostan': 66,\n",
              " 'Maracuja': 67,\n",
              " 'Melon Piel de Sapo': 68,\n",
              " 'Mulberry': 69,\n",
              " 'Nectarine': 70,\n",
              " 'Nectarine Flat': 71,\n",
              " 'Nut Forest': 72,\n",
              " 'Nut Pecan': 73,\n",
              " 'Onion Red': 74,\n",
              " 'Onion Red Peeled': 75,\n",
              " 'Onion White': 76,\n",
              " 'Orange': 77,\n",
              " 'Papaya': 78,\n",
              " 'Passion Fruit': 79,\n",
              " 'Peach': 80,\n",
              " 'Peach 2': 81,\n",
              " 'Peach Flat': 82,\n",
              " 'Pear': 83,\n",
              " 'Pear 2': 84,\n",
              " 'Pear Abate': 85,\n",
              " 'Pear Forelle': 86,\n",
              " 'Pear Kaiser': 87,\n",
              " 'Pear Monster': 88,\n",
              " 'Pear Red': 89,\n",
              " 'Pear Stone': 90,\n",
              " 'Pear Williams': 91,\n",
              " 'Pepino': 92,\n",
              " 'Pepper Green': 93,\n",
              " 'Pepper Orange': 94,\n",
              " 'Pepper Red': 95,\n",
              " 'Pepper Yellow': 96,\n",
              " 'Physalis': 97,\n",
              " 'Physalis with Husk': 98,\n",
              " 'Pineapple': 99,\n",
              " 'Pineapple Mini': 100,\n",
              " 'Pitahaya Red': 101,\n",
              " 'Plum': 102,\n",
              " 'Plum 2': 103,\n",
              " 'Plum 3': 104,\n",
              " 'Pomegranate': 105,\n",
              " 'Pomelo Sweetie': 106,\n",
              " 'Potato Red': 107,\n",
              " 'Potato Red Washed': 108,\n",
              " 'Potato Sweet': 109,\n",
              " 'Potato White': 110,\n",
              " 'Quince': 111,\n",
              " 'Rambutan': 112,\n",
              " 'Raspberry': 113,\n",
              " 'Redcurrant': 114,\n",
              " 'Salak': 115,\n",
              " 'Strawberry': 116,\n",
              " 'Strawberry Wedge': 117,\n",
              " 'Tamarillo': 118,\n",
              " 'Tangelo': 119,\n",
              " 'Tomato 1': 120,\n",
              " 'Tomato 2': 121,\n",
              " 'Tomato 3': 122,\n",
              " 'Tomato 4': 123,\n",
              " 'Tomato Cherry Red': 124,\n",
              " 'Tomato Heart': 125,\n",
              " 'Tomato Maroon': 126,\n",
              " 'Tomato Yellow': 127,\n",
              " 'Tomato not Ripened': 128,\n",
              " 'Walnut': 129,\n",
              " 'Watermelon': 130}"
            ]
          },
          "metadata": {
            "tags": []
          },
          "execution_count": 14
        }
      ]
    },
    {
      "cell_type": "code",
      "metadata": {
        "colab": {
          "base_uri": "https://localhost:8080/"
        },
        "id": "jVNQHAkGxdOR",
        "outputId": "4aa8d5e2-c3a1-4897-ec7e-cd9310015e5f"
      },
      "source": [
        "training_images = 67692\n",
        "validation_images = 22688\n",
        "\n",
        "history = model.fit_generator(training_generator,\n",
        "                   steps_per_epoch = 3,  # this should be equal to total number of images in training set. But to speed up the execution, I am only using 10000 images. Change this for better results. \n",
        "                   epochs = 3,  # change this for better results\n",
        "                   validation_data = validation_generator,\n",
        "                   validation_steps = 3)  # this should be equal to total number of images in validation set."
      ],
      "execution_count": null,
      "outputs": [
        {
          "output_type": "stream",
          "text": [
            "/usr/local/lib/python3.7/dist-packages/tensorflow/python/keras/engine/training.py:1844: UserWarning: `Model.fit_generator` is deprecated and will be removed in a future version. Please use `Model.fit`, which supports generators.\n",
            "  warnings.warn('`Model.fit_generator` is deprecated and '\n"
          ],
          "name": "stderr"
        },
        {
          "output_type": "stream",
          "text": [
            "Epoch 1/3\n",
            "3/3 [==============================] - 351s 149s/step - loss: 5.2694 - accuracy: 0.0029 - val_loss: 4.9262 - val_accuracy: 0.0067\n",
            "Epoch 2/3\n",
            "3/3 [==============================] - 354s 151s/step - loss: 4.8442 - accuracy: 0.0144 - val_loss: 4.5948 - val_accuracy: 0.0617\n",
            "Epoch 3/3\n",
            "3/3 [==============================] - 352s 148s/step - loss: 4.5357 - accuracy: 0.0575 - val_loss: 4.4128 - val_accuracy: 0.0983\n"
          ],
          "name": "stdout"
        }
      ]
    },
    {
      "cell_type": "code",
      "metadata": {
        "colab": {
          "base_uri": "https://localhost:8080/"
        },
        "id": "9BOx0ClPxgwI",
        "outputId": "21544a8a-9990-4f56-e069-b4dfdb068780"
      },
      "source": [
        "print ('Training Accuracy = ' + str(history.history['accuracy']))\n",
        "print ('Validation Accuracy = ' + str(history.history['val_accuracy']))"
      ],
      "execution_count": null,
      "outputs": [
        {
          "output_type": "stream",
          "text": [
            "Training Accuracy = [0.0033333334140479565, 0.019999999552965164, 0.05999999865889549]\n",
            "Validation Accuracy = [0.006666666828095913, 0.061666667461395264, 0.09833333641290665]\n"
          ],
          "name": "stdout"
        }
      ]
    }
  ]
}